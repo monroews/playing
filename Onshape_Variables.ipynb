{
  "nbformat": 4,
  "nbformat_minor": 0,
  "metadata": {
    "colab": {
      "name": "Onshape_Variables.ipynb",
      "provenance": [],
      "authorship_tag": "ABX9TyN5NJWSupQwWXSSIPN+vdOy",
      "include_colab_link": true
    },
    "kernelspec": {
      "name": "python3",
      "display_name": "Python 3"
    }
  },
  "cells": [
    {
      "cell_type": "markdown",
      "metadata": {
        "id": "view-in-github",
        "colab_type": "text"
      },
      "source": [
        "<a href=\"https://colab.research.google.com/github/monroews/playing/blob/master/Onshape_Variables.ipynb\" target=\"_parent\"><img src=\"https://colab.research.google.com/assets/colab-badge.svg\" alt=\"Open In Colab\"/></a>"
      ]
    },
    {
      "cell_type": "code",
      "metadata": {
        "id": "U4bJEr31S-KO",
        "colab_type": "code",
        "colab": {
          "base_uri": "https://localhost:8080/",
          "height": 969
        },
        "outputId": "f4b290ae-2d02-4dc5-cf27-d288529d3e61"
      },
      "source": [
        "!pip install onshape_client\n",
        "!pip install aguaclara\n"
      ],
      "execution_count": 2,
      "outputs": [
        {
          "output_type": "stream",
          "text": [
            "Collecting onshape_client\n",
            "\u001b[?25l  Downloading https://files.pythonhosted.org/packages/e7/e4/687bad02d5f0b04d507e029b7728269706c51c5caf1280223e423a2ac05a/onshape_client-1.6.3-py3-none-any.whl (2.1MB)\n",
            "\u001b[K     |████████████████████████████████| 2.1MB 2.8MB/s \n",
            "\u001b[?25hRequirement already satisfied: certifi>=2017.4.17 in /usr/local/lib/python3.6/dist-packages (from onshape_client) (2020.4.5.1)\n",
            "Requirement already satisfied: requests-oauthlib in /usr/local/lib/python3.6/dist-packages (from onshape_client) (1.3.0)\n",
            "Collecting ruamel.yaml\n",
            "\u001b[?25l  Downloading https://files.pythonhosted.org/packages/a6/92/59af3e38227b9cc14520bf1e59516d99ceca53e3b8448094248171e9432b/ruamel.yaml-0.16.10-py2.py3-none-any.whl (111kB)\n",
            "\u001b[K     |████████████████████████████████| 112kB 23.0MB/s \n",
            "\u001b[?25hRequirement already satisfied: python-dateutil>=2.1 in /usr/local/lib/python3.6/dist-packages (from onshape_client) (2.8.1)\n",
            "Requirement already satisfied: urllib3>=1.23 in /usr/local/lib/python3.6/dist-packages (from onshape_client) (1.24.3)\n",
            "Requirement already satisfied: six>=1.10 in /usr/local/lib/python3.6/dist-packages (from onshape_client) (1.12.0)\n",
            "Collecting nulltype\n",
            "  Downloading https://files.pythonhosted.org/packages/00/0f/47dde1a3cceac9858da0bfb92d2279bf5f993ed075b72983e92efc297db3/nulltype-2.3.1-py2.py3-none-any.whl\n",
            "Collecting pint\n",
            "\u001b[?25l  Downloading https://files.pythonhosted.org/packages/3f/1c/95b113bd8da60e2aeecb4988c007a867682c739c721cb3ab16de77913040/Pint-0.12-py2.py3-none-any.whl (192kB)\n",
            "\u001b[K     |████████████████████████████████| 194kB 20.0MB/s \n",
            "\u001b[?25hRequirement already satisfied: requests>=2.0.0 in /usr/local/lib/python3.6/dist-packages (from requests-oauthlib->onshape_client) (2.23.0)\n",
            "Requirement already satisfied: oauthlib>=3.0.0 in /usr/local/lib/python3.6/dist-packages (from requests-oauthlib->onshape_client) (3.1.0)\n",
            "Collecting ruamel.yaml.clib>=0.1.2; platform_python_implementation == \"CPython\" and python_version < \"3.9\"\n",
            "\u001b[?25l  Downloading https://files.pythonhosted.org/packages/53/77/4bcd63f362bcb6c8f4f06253c11f9772f64189bf08cf3f40c5ccbda9e561/ruamel.yaml.clib-0.2.0-cp36-cp36m-manylinux1_x86_64.whl (548kB)\n",
            "\u001b[K     |████████████████████████████████| 552kB 13.9MB/s \n",
            "\u001b[?25hRequirement already satisfied: setuptools in /usr/local/lib/python3.6/dist-packages (from pint->onshape_client) (47.1.1)\n",
            "Requirement already satisfied: idna<3,>=2.5 in /usr/local/lib/python3.6/dist-packages (from requests>=2.0.0->requests-oauthlib->onshape_client) (2.9)\n",
            "Requirement already satisfied: chardet<4,>=3.0.2 in /usr/local/lib/python3.6/dist-packages (from requests>=2.0.0->requests-oauthlib->onshape_client) (3.0.4)\n",
            "Installing collected packages: ruamel.yaml.clib, ruamel.yaml, nulltype, pint, onshape-client\n",
            "Successfully installed nulltype-2.3.1 onshape-client-1.6.3 pint-0.12 ruamel.yaml-0.16.10 ruamel.yaml.clib-0.2.0\n",
            "Collecting aguaclara\n",
            "\u001b[?25l  Downloading https://files.pythonhosted.org/packages/6d/b5/24c20d548db5d6dbbce2899e0c9e24eab6c5f593a2898b353f356bb9cd3b/aguaclara-0.2.1.tar.gz (87kB)\n",
            "\u001b[K     |████████████████████████████████| 92kB 2.4MB/s \n",
            "\u001b[?25hRequirement already satisfied: matplotlib in /usr/local/lib/python3.6/dist-packages (from aguaclara) (3.2.1)\n",
            "Requirement already satisfied: urllib3 in /usr/local/lib/python3.6/dist-packages (from aguaclara) (1.24.3)\n",
            "Collecting pint==0.8.1\n",
            "\u001b[?25l  Downloading https://files.pythonhosted.org/packages/1e/40/6938f7d544eef208a8183c2c80624289e8a4f4e0aea43f4658b9527077de/Pint-0.8.1.tar.gz (162kB)\n",
            "\u001b[K     |████████████████████████████████| 163kB 4.9MB/s \n",
            "\u001b[?25hRequirement already satisfied: pandas in /usr/local/lib/python3.6/dist-packages (from aguaclara) (1.0.4)\n",
            "Requirement already satisfied: scipy in /usr/local/lib/python3.6/dist-packages (from aguaclara) (1.4.1)\n",
            "Requirement already satisfied: pyparsing!=2.0.4,!=2.1.2,!=2.1.6,>=2.0.1 in /usr/local/lib/python3.6/dist-packages (from matplotlib->aguaclara) (2.4.7)\n",
            "Requirement already satisfied: kiwisolver>=1.0.1 in /usr/local/lib/python3.6/dist-packages (from matplotlib->aguaclara) (1.2.0)\n",
            "Requirement already satisfied: cycler>=0.10 in /usr/local/lib/python3.6/dist-packages (from matplotlib->aguaclara) (0.10.0)\n",
            "Requirement already satisfied: numpy>=1.11 in /usr/local/lib/python3.6/dist-packages (from matplotlib->aguaclara) (1.18.4)\n",
            "Requirement already satisfied: python-dateutil>=2.1 in /usr/local/lib/python3.6/dist-packages (from matplotlib->aguaclara) (2.8.1)\n",
            "Requirement already satisfied: pytz>=2017.2 in /usr/local/lib/python3.6/dist-packages (from pandas->aguaclara) (2018.9)\n",
            "Requirement already satisfied: six in /usr/local/lib/python3.6/dist-packages (from cycler>=0.10->matplotlib->aguaclara) (1.12.0)\n",
            "Building wheels for collected packages: aguaclara, pint\n",
            "  Building wheel for aguaclara (setup.py) ... \u001b[?25l\u001b[?25hdone\n",
            "  Created wheel for aguaclara: filename=aguaclara-0.2.1-cp36-none-any.whl size=99466 sha256=c49a51bd608cb23ef134ec63a462bf07bd6b6dac555fc109670b76527a2e7099\n",
            "  Stored in directory: /root/.cache/pip/wheels/7f/ff/4f/10d76e6a261d392aefbdf6ce8d3d5519e924dc334b102ca49b\n",
            "  Building wheel for pint (setup.py) ... \u001b[?25l\u001b[?25hdone\n",
            "  Created wheel for pint: filename=Pint-0.8.1-py2.py3-none-any.whl size=134156 sha256=b6c9e5d99f8eaf444464136a4f6e0af7cf79e52486a8e408c808c39b2ccbffde\n",
            "  Stored in directory: /root/.cache/pip/wheels/b4/56/36/7c4d6a4e3660e233b95e3b0482551915cb184abca0f93ee1dd\n",
            "Successfully built aguaclara pint\n",
            "Installing collected packages: pint, aguaclara\n",
            "  Found existing installation: Pint 0.12\n",
            "    Uninstalling Pint-0.12:\n",
            "      Successfully uninstalled Pint-0.12\n",
            "Successfully installed aguaclara-0.2.1 pint-0.8.1\n"
          ],
          "name": "stdout"
        }
      ]
    },
    {
      "cell_type": "code",
      "metadata": {
        "id": "EEMBIDDPEQmG",
        "colab_type": "code",
        "colab": {}
      },
      "source": [
        "import aguaclara as ac\n",
        "from aguaclara.core.units import unit_registry as u\n",
        "import numpy as np\n",
        "import matplotlib.pyplot as plt\n",
        "import matplotlib.ticker as ticker\n"
      ],
      "execution_count": 0,
      "outputs": []
    },
    {
      "cell_type": "code",
      "metadata": {
        "id": "swUVw7SgDIdS",
        "colab_type": "code",
        "colab": {
          "base_uri": "https://localhost:8080/",
          "height": 85
        },
        "outputId": "cada0c97-a92f-43cb-f5e5-1b8bd58204d5"
      },
      "source": [
        "mylfom =  ac.LFOM(q = 10 * u.L / u.s, hl = 20 * u.cm)\n",
        "print(mylfom.orifice_d.to(u.m))\n",
        "print(mylfom.orifice_n_per_row)\n",
        "print(ac.DRILL_BITS_D_IMPERIAL.magnitude)"
      ],
      "execution_count": 4,
      "outputs": [
        {
          "output_type": "stream",
          "text": [
            "0.01905 meter\n",
            "[13.  3.  3.  4.  2.  3.  2.  2.  2.  2.]\n",
            "[0.03125 0.0625  0.09375 0.125   0.15625 0.1875  0.21875 0.25    0.375\n",
            " 0.5     0.625   0.75    0.875   1.      1.25    1.5     1.75    2.     ]\n"
          ],
          "name": "stdout"
        }
      ]
    },
    {
      "cell_type": "code",
      "metadata": {
        "id": "sXg2xHu_SwgY",
        "colab_type": "code",
        "colab": {
          "base_uri": "https://localhost:8080/",
          "height": 34
        },
        "outputId": "c5405539-7557-4dc0-b4a1-7bebc38b69f6"
      },
      "source": [
        "\n",
        "\"\"\"For getting measurements defined by the custom \"measure\" feature: https://cad.onshape.com/documents/78aa66ffe6f1daceb9cfad3d/v/025bec5f59f6380ab5627a4b/e/92549789b92e9aa35f676f4e\n",
        "To fetch measurements from the API:\n",
        "1. Make sure the desired geometry is defined using the feature within this document. The \"use measurements variable\" checkbox should be selected.\n",
        "2. Call the Evaluate Featurescript API call with your client/code with the following script:\n",
        "\tfunction(context, queries) {\n",
        "            return getAllVariables(context, \"m\");\n",
        "        }\n",
        "This will return all the variables defined under \"m\", ie, m.radius, m.my_custom_length, etc...\n",
        "3. Now use the resulting map from measurements feature name to value within your code.\n",
        "\"\"\"\n",
        "\n",
        "import json\n",
        "\n",
        "from onshape_client.oas import BTFeatureScriptEvalCall2377\n",
        "from onshape_client.onshape_url import OnshapeElement\n",
        "from onshape_client.utility import parse_quantity\n",
        "\n",
        "script = r\"\"\"\n",
        "    function(context, queries) {\n",
        "            return getAllVariables(context);\n",
        "        }\n",
        "    \"\"\"\n",
        "\n",
        "\n",
        "def test_get_variables(client):\n",
        "    element = OnshapeElement(\n",
        "        \"https://cad.onshape.com/documents/c3a8ce032e33ebe875b9aab4/w/de9ad5474448b34f33fef097/e/be4e3802542940dfc47aea38\"\n",
        "    )\n",
        "    script_call = BTFeatureScriptEvalCall2377(script=script)\n",
        "    response = client.part_studios_api.eval_feature_script(\n",
        "        element.did,\n",
        "        element.wvm,\n",
        "        element.wvmid,\n",
        "        element.eid,\n",
        "        bt_feature_script_eval_call_2377=script_call,\n",
        "        _preload_content=False,\n",
        "    )\n",
        "    measurements = json.loads(response.data.decode(\"utf-8\"))[\"result\"][\"message\"][\n",
        "        \"value\"\n",
        "    ]\n",
        "    parsed_measurements = parse_variables_from_map(measurements)\n",
        "\n",
        "    print(\"Measurements: \\n\" + str(parsed_measurements))\n",
        "\n",
        "\n",
        "def parse_variables_from_map(unparsed):\n",
        "    parsed_variables = {}\n",
        "    value = None\n",
        "    for to_parse in unparsed:\n",
        "        if is_fs_type(to_parse, \"BTFSValueMapEntry\"):\n",
        "            key = to_parse[\"message\"][\"key\"][\"message\"][\"value\"]\n",
        "            candidate_message = to_parse[\"message\"][\"value\"]\n",
        "            if is_fs_type(candidate_message, [\"BTFSValueMap\", \"BTFSValueArray\"]):\n",
        "                value = parse_variables_from_map(candidate_message[\"message\"][\"value\"])\n",
        "            elif is_fs_type(candidate_message, \"BTFSValueWithUnits\"):\n",
        "                value = parse_quantity(candidate_message[\"message\"])\n",
        "            parsed_variables[key] = value\n",
        "    return parsed_variables\n",
        "\n",
        "\n",
        "def is_fs_type(candidate, type_name):\n",
        "    result = False\n",
        "    try:\n",
        "        if isinstance(type_name, str):\n",
        "            result = type_name == candidate[\"typeName\"]\n",
        "        elif isinstance(type_name, list):\n",
        "            result = any(\n",
        "                [type_name_one == candidate[\"typeName\"] for type_name_one in type_name]\n",
        "            )\n",
        "    except Exception:\n",
        "        result = False\n",
        "    return result\n",
        "\n",
        "\n",
        "\"\"\"\n",
        "Measurements: \n",
        "{'distance_from_polygon_to_square': '0.1308455707096832*meter', 'diameter': '0.0868175271040671*meter', 'polygon_side_length': '0.05706864859958895*meter'}\n",
        "\"\"\""
      ],
      "execution_count": 6,
      "outputs": [
        {
          "output_type": "execute_result",
          "data": {
            "text/plain": [
              "\"\\nMeasurements: \\n{'distance_from_polygon_to_square': '0.1308455707096832*meter', 'diameter': '0.0868175271040671*meter', 'polygon_side_length': '0.05706864859958895*meter'}\\n\""
            ]
          },
          "metadata": {
            "tags": []
          },
          "execution_count": 6
        }
      ]
    }
  ]
}