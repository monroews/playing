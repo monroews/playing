{
  "nbformat": 4,
  "nbformat_minor": 0,
  "metadata": {
    "colab": {
      "name": "Backwash_volume.ipynb",
      "provenance": [],
      "collapsed_sections": []
    },
    "kernelspec": {
      "name": "python3",
      "display_name": "Python 3"
    }
  },
  "cells": [
    {
      "cell_type": "code",
      "metadata": {
        "id": "TLU4XcGlz593",
        "colab_type": "code",
        "colab": {
          "base_uri": "https://localhost:8080/",
          "height": 493
        },
        "outputId": "8ad57559-1a5d-4bca-c00a-0e60c999ea97"
      },
      "source": [
        "!pip install aguaclara"
      ],
      "execution_count": 1,
      "outputs": [
        {
          "output_type": "stream",
          "text": [
            "Collecting aguaclara\n",
            "\u001b[?25l  Downloading https://files.pythonhosted.org/packages/37/49/e2b89f6683233fdfed9134871d124823900f15192721e87ea04f867b51b3/aguaclara-0.2.3.tar.gz (87kB)\n",
            "\r\u001b[K     |███▊                            | 10kB 17.3MB/s eta 0:00:01\r\u001b[K     |███████▌                        | 20kB 1.7MB/s eta 0:00:01\r\u001b[K     |███████████▎                    | 30kB 2.2MB/s eta 0:00:01\r\u001b[K     |███████████████                 | 40kB 2.5MB/s eta 0:00:01\r\u001b[K     |██████████████████▊             | 51kB 2.0MB/s eta 0:00:01\r\u001b[K     |██████████████████████▌         | 61kB 2.2MB/s eta 0:00:01\r\u001b[K     |██████████████████████████▎     | 71kB 2.3MB/s eta 0:00:01\r\u001b[K     |██████████████████████████████  | 81kB 2.6MB/s eta 0:00:01\r\u001b[K     |████████████████████████████████| 92kB 2.3MB/s \n",
            "\u001b[?25hRequirement already satisfied: matplotlib in /usr/local/lib/python3.6/dist-packages (from aguaclara) (3.2.2)\n",
            "Requirement already satisfied: urllib3 in /usr/local/lib/python3.6/dist-packages (from aguaclara) (1.24.3)\n",
            "Collecting pint\n",
            "\u001b[?25l  Downloading https://files.pythonhosted.org/packages/66/a9/18b232462dee45443994b19254cf6fe49893ea81bc7534cb984932d59e38/Pint-0.14-py2.py3-none-any.whl (197kB)\n",
            "\u001b[K     |████████████████████████████████| 204kB 8.1MB/s \n",
            "\u001b[?25hRequirement already satisfied: pandas in /usr/local/lib/python3.6/dist-packages (from aguaclara) (1.0.5)\n",
            "Requirement already satisfied: scipy in /usr/local/lib/python3.6/dist-packages (from aguaclara) (1.4.1)\n",
            "Requirement already satisfied: pyparsing!=2.0.4,!=2.1.2,!=2.1.6,>=2.0.1 in /usr/local/lib/python3.6/dist-packages (from matplotlib->aguaclara) (2.4.7)\n",
            "Requirement already satisfied: numpy>=1.11 in /usr/local/lib/python3.6/dist-packages (from matplotlib->aguaclara) (1.18.5)\n",
            "Requirement already satisfied: python-dateutil>=2.1 in /usr/local/lib/python3.6/dist-packages (from matplotlib->aguaclara) (2.8.1)\n",
            "Requirement already satisfied: kiwisolver>=1.0.1 in /usr/local/lib/python3.6/dist-packages (from matplotlib->aguaclara) (1.2.0)\n",
            "Requirement already satisfied: cycler>=0.10 in /usr/local/lib/python3.6/dist-packages (from matplotlib->aguaclara) (0.10.0)\n",
            "Requirement already satisfied: setuptools in /usr/local/lib/python3.6/dist-packages (from pint->aguaclara) (49.2.0)\n",
            "Requirement already satisfied: importlib-metadata; python_version < \"3.8\" in /usr/local/lib/python3.6/dist-packages (from pint->aguaclara) (1.7.0)\n",
            "Requirement already satisfied: packaging in /usr/local/lib/python3.6/dist-packages (from pint->aguaclara) (20.4)\n",
            "Requirement already satisfied: pytz>=2017.2 in /usr/local/lib/python3.6/dist-packages (from pandas->aguaclara) (2018.9)\n",
            "Requirement already satisfied: six>=1.5 in /usr/local/lib/python3.6/dist-packages (from python-dateutil>=2.1->matplotlib->aguaclara) (1.15.0)\n",
            "Requirement already satisfied: zipp>=0.5 in /usr/local/lib/python3.6/dist-packages (from importlib-metadata; python_version < \"3.8\"->pint->aguaclara) (3.1.0)\n",
            "Building wheels for collected packages: aguaclara\n",
            "  Building wheel for aguaclara (setup.py) ... \u001b[?25l\u001b[?25hdone\n",
            "  Created wheel for aguaclara: filename=aguaclara-0.2.3-cp36-none-any.whl size=99459 sha256=94da97c9435e28bf5e93e3de067213b5f7b5d8bd660ec692ef83639bcb52b07a\n",
            "  Stored in directory: /root/.cache/pip/wheels/da/f3/b6/a4648b3b3bc239e7953e74a2dee9f21c07d1b1e1f65cb86311\n",
            "Successfully built aguaclara\n",
            "Installing collected packages: pint, aguaclara\n",
            "Successfully installed aguaclara-0.2.3 pint-0.14\n"
          ],
          "name": "stdout"
        }
      ]
    },
    {
      "cell_type": "code",
      "metadata": {
        "id": "A8B6wldWzniR",
        "colab_type": "code",
        "colab": {
          "base_uri": "https://localhost:8080/",
          "height": 68
        },
        "outputId": "05710767-03e1-4f8e-fa8d-86c95fc574ff"
      },
      "source": [
        "\n",
        "from aguaclara.core.units import unit_registry as u\n",
        "import aguaclara as ac\n",
        "import numpy as np\n",
        "import matplotlib.pyplot as plt\n",
        "\n",
        "QTonka = 56 * u.gal/u.min\n",
        "costTonka = 320000 * u.USD\n",
        "Tonka = (costTonka/QTonka).to(u.USD/(u.mL/u.s))\n",
        "print(Tonka)\n",
        "\n",
        "QEPA = 350 * u.gal/u.min\n",
        "#253.71 is the inflation factor for 1984\n",
        "costEPA = 637025 * u.USD * 2.5371\n",
        "EPA = (costEPA/QEPA).to(u.USD/(u.mL/u.s))\n",
        "print(EPA)\n",
        "\n",
        "t_backwash = 15 * u.min  \n",
        "t_runtime = 24 * u.hr   \n",
        "Q_plant = 120 * u.L/u.s    \n",
        "Q_backwash = (Q_plant * t_backwash/t_runtime).to(u.L/u.s)\n",
        "Q_backwash\n",
        "v_capture = 0.12 * u.mm/u.s\n",
        "A_lagoon_settle = (Q_backwash/v_capture).to(u.m**2)\n",
        "A_lagoon_settle\n",
        "H_lagoon = 3 * u.m\n",
        "t_lagoon = 10 * t_runtime\n",
        "V_lagoon = t_lagoon * Q_backwash\n",
        "A_lagoon = (V_lagoon/H_lagoon).to(u.m**2)\n",
        "A_lagoon\n",
        "L_Lagoon = np.sqrt(A_lagoon*4)\n",
        "L_Lagoon\n",
        "W_Lagoon = L_Lagoon/4\n",
        "W_Lagoon\n",
        "W_Lagoon*L_Lagoon"
      ],
      "execution_count": 8,
      "outputs": [
        {
          "output_type": "stream",
          "text": [
            "90.57 dollar * second / milliliter\n",
            "73.19 dollar * second / milliliter\n"
          ],
          "name": "stdout"
        },
        {
          "output_type": "execute_result",
          "data": {
            "text/latex": "$360.00000000000017\\ \\mathrm{meter}^{2}$",
            "text/html": [
              "\\[360.00000000000017\\ {meter}^{2}\\]"
            ],
            "text/plain": [
              "360.00000000000017 meter²"
            ]
          },
          "metadata": {
            "tags": []
          },
          "execution_count": 8
        }
      ]
    },
    {
      "cell_type": "code",
      "metadata": {
        "id": "PF9LzhV-8Yfc",
        "colab_type": "code",
        "colab": {
          "base_uri": "https://localhost:8080/",
          "height": 67
        },
        "outputId": "b1a89b9b-0439-4b22-c41d-c02fc9a1feeb"
      },
      "source": [
        "V_surface_loading_rate = (1 * u.gal/(u.min * u.ft**2)).to(u.mm/u.s)\n",
        "print('The surface loading rate is', V_surface_loading_rate)\n",
        "print('The surface loading rate is', ac.round_sig_figs(V_surface_loading_rate,2))\n",
        "IDmin = 7 * u.cm\n",
        "SDR = 26\n",
        "ND_my_pipe = ac.ND_SDR_available(IDmin,SDR)\n",
        "ND_my_pipe"
      ],
      "execution_count": null,
      "outputs": [
        {
          "output_type": "stream",
          "text": [
            "The surface loading rate is 0.6791 millimeter / second\n",
            "The surface loading rate is 0.68 millimeter / second\n"
          ],
          "name": "stdout"
        },
        {
          "output_type": "execute_result",
          "data": {
            "text/latex": "$3.0\\ \\mathrm{inch}$",
            "text/html": [
              "3.0 inch"
            ],
            "text/plain": [
              "<Quantity(3.0, 'inch')>"
            ]
          },
          "metadata": {
            "tags": []
          },
          "execution_count": 5
        }
      ]
    },
    {
      "cell_type": "markdown",
      "metadata": {
        "id": "sBP3HW7czsHO",
        "colab_type": "text"
      },
      "source": [
        "See  Integrated Design and Operation of Water Treatment Facilities by Susumu Kawamura. page 377 for design guidelines\n"
      ]
    }
  ]
}