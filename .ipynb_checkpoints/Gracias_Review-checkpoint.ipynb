{
 "cells": [
  {
   "cell_type": "code",
   "execution_count": 43,
   "metadata": {
    "colab": {
     "base_uri": "https://localhost:8080/",
     "height": 680
    },
    "colab_type": "code",
    "executionInfo": {
     "elapsed": 22563,
     "status": "ok",
     "timestamp": 1573670032123,
     "user": {
      "displayName": "Monroe Weber-Shirk",
      "photoUrl": "https://lh3.googleusercontent.com/a-/AAuE7mDmYNDq6ij0468RSHe1goXE_t9gbSPdq5OAsU4-ejQ=s64",
      "userId": "08369668289863895493"
     },
     "user_tz": 300
    },
    "id": "TLU4XcGlz593",
    "outputId": "56fc4d0f-9d07-4313-c91c-f76c9f438241"
   },
   "outputs": [],
   "source": [
    "#!pip install aguaclara"
   ]
  },
  {
   "cell_type": "code",
   "execution_count": 44,
   "metadata": {
    "colab": {},
    "colab_type": "code",
    "id": "A8B6wldWzniR"
   },
   "outputs": [],
   "source": [
    "import aguaclara as ac\n",
    "from aguaclara.core.units import unit_registry as u\n",
    "import matplotlib.pyplot as plt\n",
    "import numpy as np"
   ]
  },
  {
   "cell_type": "markdown",
   "metadata": {},
   "source": [
    "# Filter high head loss\n",
    "The filters have high initial head loss and the head loss increases rapidily over time. There is some evidence that the rapid increase with time occurs even when the turbidity is low. These suggest that the filters have air injected during backwash and or the transition to filtration that remains trapped in the filter AND it suggests that we are injected air into the filter during filtration. \n",
    "\n",
    "## Possible solutions\n",
    "\n",
    "1) add air release to the top of each of the inlet pipes leading into the filter\n",
    "\n",
    "2) Add outlet pipe stubs to raise water level above inlet pipes by about 10 cm. This would suggest making the outlet stubs be the same height as the taller inlet stubs that are used for the middle to inlets.\n",
    "\n",
    "3) Devise method to eliminate bubbles during backwash (Why isn't this a problem at other plants?) The plate to lower the water into the inlet tank is missing from the design. That might not be enough to fix this problem.\n",
    "\n",
    "\n",
    "# Floc Blanket Failure\n",
    "The observed failure mode is that the floc blanket rises to the top of the sed tank.\n",
    "It must be possible to solve this problem by wasting from the floc hopper at the rate at which the floc blanket grows (approximately 240 mL/s). This probably requires using the 1\" valve.\n",
    "It would be better to obtain some consolidation in the floc hopper. The floc hopper should be able to obtain significant consolidation given that the inital sedimentation velocity of the suspension is equal to the upflow velocity and that the floc hopper velocity based on the total amount of floc blanket that must be wasted is 0.16 mm/s.\n",
    "\n",
    "I need an as built measurement of the height of the opening into the floc hopper. From the drawing it seems that there is only 10 cm between the plate settlers and the weir. Given the small density difference that is driving the flow it seems very likely (see analysis below) that flow of flocs into the floc hopper is limited by the wasting rate. We should be able to increase the flow of flocs into the floc hopper by increasing the vertical height available. That would require moving the plate settlers away from the floc hopper. We could do that be installing the plate settlers sloped away from the floc hopper as is shown in the design drawings. This doesn't entire solve the problem because the water returning from the floc hopper needs to be able to enter the plate settlers. We could help the water get into the plate settlers by having at least one module of plate settlers be lifted up so that bottom of the plate settlers are as high as the top of the inlet into the floc hopper.\n",
    "\n",
    "Recommendations:\n",
    "\n",
    "1) Turn plate settlers around\n",
    "\n",
    "2) Lift first module of plates to touch the effluent launder to maximize space beneath them.\n",
    "\n",
    "3) Begin wasting flocs through 1\" valve at a rate of about 400 mL/s\n",
    "\n",
    "4) If floc blanket stays low, then experiment with lower floc waste rates."
   ]
  },
  {
   "cell_type": "code",
   "execution_count": 45,
   "metadata": {},
   "outputs": [
    {
     "name": "stdout",
     "output_type": "stream",
     "text": [
      "Floc blanket growth rate is 0.05556 millimeter / second\n",
      "Al(OH)3 concentration dosed is 21.45 milligram / liter\n",
      "Ratio of velocities is 15 dimensionless\n",
      "The floc blanket concentration is 321.7 milligram / liter\n",
      "If we waste floc blanket without any further concentrating we need to waste 333.3 milliliter / second from each sed tank.\n"
     ]
    }
   ],
   "source": [
    "Q = 50 * u.L/u.s\n",
    "Design_Q = 60 * u.L/u.s\n",
    "Sed_v = 1 * u.mm/u.s * Q/Design_Q\n",
    "#I'm making a big guess on the floc blanket growth rate because there were purges on the way to failure\n",
    "Failure_t = 10 * u.hr\n",
    "Tank_H = 2 * u.m\n",
    "FB_v = (Tank_H/Failure_t).to(u.mm/u.s)\n",
    "print('Floc blanket growth rate is',FB_v)\n",
    "PACl_C = 20 * u.mg/u.L\n",
    "Al_C = PACl_C/3\n",
    "Dose_AlOH3_C = Al_C * (23+17*3)/23\n",
    "print('Al(OH)3 concentration dosed is',Dose_AlOH3_C)\n",
    "Ratio_v = Sed_v/FB_v\n",
    "print('Ratio of velocities is',Ratio_v)\n",
    "FB_AlOH_C = Dose_AlOH3_C * Ratio_v\n",
    "print('The floc blanket concentration is',FB_AlOH_C)\n",
    "Sed_n = 10\n",
    "Sed_FB_Q = (Q/Ratio_v/Sed_n).to(u.mL/u.s)\n",
    "print('If we waste floc blanket without any further concentrating we need to waste',Sed_FB_Q,'from each sed tank.')"
   ]
  },
  {
   "cell_type": "markdown",
   "metadata": {},
   "source": [
    "Let's find the floc hopper velocity given this flow rate."
   ]
  },
  {
   "cell_type": "code",
   "execution_count": 46,
   "metadata": {},
   "outputs": [
    {
     "name": "stdout",
     "output_type": "stream",
     "text": [
      "The floc hopper velocity is 0.2232 millimeter / second\n"
     ]
    }
   ],
   "source": [
    "Sed_W = (42*u.inch).to(u.m)\n",
    "F_hopper_A = (1.4 * u.m * Sed_W).to(u.m**2)\n",
    "F_hopper_v = (Sed_FB_Q/F_hopper_A).to(u.mm/u.s)\n",
    "print('The floc hopper velocity is',F_hopper_v)"
   ]
  },
  {
   "cell_type": "markdown",
   "metadata": {},
   "source": [
    "The floc hopper velocity is much lower than the upflow velocity in the sed tank. Thus there should be a significant increase in concentration in the floc hopper.\n",
    "\n",
    "Is it possible that the transport of flocs into the floc hopper is limited by the size of the floc hopper opening and the density difference between the floc blanket and water?\n",
    "\n",
    "We need an estimate of the density of the floc blanket\n",
    "\n",
    "$$\\rho_{FB} = \\left( 1 - \\frac{\\rho_{H_2O}}{\\rho_{Clay}} \\right) C_{Clay} + \\rho_{H_2O}$$\n",
    "\n",
    "$$\\rho_{FB} = \\left( 1 - \\frac{\\rho_{H_2O}}{\\rho_{Al(OH)_3}} \\right) C_{Al(OH)_3} + \\rho_{H_2O}$$\n",
    "\n",
    "What pushes the water into the floc hopper? potential energy from a difference in FB elevation turns into kinetic energy. Let's assume a 5 cm elevation difference (small compared with floc hopper opening size).\n",
    "\n",
    "Also assume floc blanket flows in through bottom half of floc hopper opening and water flows out of top half.\n"
   ]
  },
  {
   "cell_type": "markdown",
   "metadata": {},
   "source": [
    "The analysis below tracks energy to estimate the maximum velocity that floc blanket fluid can be transported into the floc hopper and then clarified water can be transported back out of the floc hopper\n",
    "\n",
    "$$PE = \\Delta \\rho g h $$\n",
    "\n",
    "Assume that the PE is used both to accelerate the water to bring it into the floc hopper and to accelerate it to push it back out.\n",
    "\n",
    "$$KE_{in} = \\frac{1}{2}PE $$\n",
    "$$KE_{in} = \\rho \\frac{v^2}{2} $$\n",
    "\n",
    "$$ v = \\sqrt{\\frac{2KE_{in}}{\\rho}} $$\n",
    "\n",
    "$$ v = \\sqrt{\\frac{\\Delta \\rho g h}{\\rho_{H_2O} + \\Delta \\rho}} $$\n",
    "\n",
    "This doesn't account for vena contracta going over the weir or any mixing between the layers."
   ]
  },
  {
   "attachments": {
    "image.png": {
     "image/png": "[encoded data removed]"
    }
   },
   "cell_type": "markdown",
   "metadata": {},
   "source": [
    "![image.png](attachment:image.png)"
   ]
  },
  {
   "cell_type": "code",
   "execution_count": 47,
   "metadata": {},
   "outputs": [
    {
     "name": "stdout",
     "output_type": "stream",
     "text": [
      "Floc blanket density difference is 160.9 milligram / liter\n",
      "The horizontal velocity into the floc hopper is 8.882 millimeter / second\n",
      "The flow into the floc hopper is 0.2937 liter / second\n"
     ]
    }
   ],
   "source": [
    "temp = 8 * u.degC\n",
    "density_AlOH3 = 2000 * u.kg/u.m**3\n",
    "FB_buoyant_density = (1 - ac.density_water(temp)/density_AlOH3) * FB_AlOH_C\n",
    "print('Floc blanket density difference is',FB_buoyant_density)\n",
    "Floc_hopper_opening_H = 10 *u.cm\n",
    "Floc_hopper_opening_A = Floc_hopper_opening_H * Sed_W\n",
    "\n",
    "#The driving head is a change in floc blanket depth between the sed tank and the floc hopper\n",
    "FB_Delta_H = 5 * u.cm\n",
    "\n",
    "Horizontal_v = (np.sqrt((FB_buoyant_density* u.gravity * FB_Delta_H) / (ac.density_water(temp) + FB_buoyant_density))).to(u.mm/u.s)\n",
    "print('The horizontal velocity into the floc hopper is',Horizontal_v)\n",
    "\n",
    "#add vena contracta to this analysis\n",
    "Q_Density = (Horizontal_v * Floc_hopper_opening_A/2 * 0.62).to(u.L/u.s)\n",
    "print('The flow into the floc hopper is',Q_Density)\n"
   ]
  },
  {
   "cell_type": "markdown",
   "metadata": {},
   "source": [
    "The maximum flow into the floc hopper is just a bit larger than the estimated required flow.  If there "
   ]
  },
  {
   "cell_type": "markdown",
   "metadata": {
    "colab_type": "text",
    "id": "zS4iEZeb10xG"
   },
   "source": [
    "# Review from summer 2019\n",
    "\n",
    "much turbulence in the entrance tank\n",
    "\n",
    "We need to \n",
    "48 L/s\n",
    "55 L/s\n",
    "\n",
    "for large plants need mixeers for chemicals\n",
    "\n",
    "suggests a bypass around the flocculator (not clear if this a need)\n",
    "want to know if \n",
    "want a drain before the sed tank exit weir\n",
    "2 trens is good\n",
    "wouldlike one dosing point\n",
    "\n",
    "$$\\bar v_1 \\frac{\\pi D_1^2}{4} = \\bar v_2 \\frac{\\pi D_2^2}{4}$$\n",
    " \n"
   ]
  },
  {
   "cell_type": "markdown",
   "metadata": {
    "colab_type": "text",
    "id": "sBP3HW7czsHO"
   },
   "source": [
    "## Repaso sobre el diseño de la planta de Gracias\n",
    "\n",
    "### Perdida de carga\n",
    "\n",
    "Vale revisar estas perdidas para averiguar que cambios sean necesarios en la planta.\n",
    "\n",
    "1.   Rejilla para basura\n",
    "2.   Flocculator head loss\n",
    "3.   Sed tank exit channel head loss\n",
    "\n",
    "Abajo la ecuacion de perdida por una expansion.\n",
    "\n",
    "$h_e = \\left( \\frac{A_{out}}{A_{in}} -1 \\right)^2 \\, \\frac{\\bar  v_{out}^2}{2g} \\, \\, = \\, \\, K_e \\frac{\\bar v_{out}^2}{2g}, \\quad {\\rm where} \\quad K_e = \\left( \\frac{A_{out}}{A_{in}} - 1 \\right)^2$\n",
    "\n",
    "La rejilla parece que sea sumerjida en el video. Es muy importante que el agua pasa por la rejilla para evitar que los difusores llenan de basura.\n",
    "\n"
   ]
  },
  {
   "cell_type": "code",
   "execution_count": 48,
   "metadata": {
    "colab": {
     "base_uri": "https://localhost:8080/",
     "height": 51
    },
    "colab_type": "code",
    "executionInfo": {
     "elapsed": 11939,
     "status": "ok",
     "timestamp": 1564673025006,
     "user": {
      "displayName": "Monroe Weber-Shirk",
      "photoUrl": "https://lh3.googleusercontent.com/-MLlwg5-TZXw/AAAAAAAAAAI/AAAAAAABABc/VNaeCKBHEEk/s64/photo.jpg",
      "userId": "08369668289863895493"
     },
     "user_tz": 240
    },
    "id": "YCCKzC4r6TPp",
    "outputId": "e3f9778f-6393-442a-a7ab-4060b7e72bb9"
   },
   "outputs": [
    {
     "name": "stdout",
     "output_type": "stream",
     "text": [
      "Coeficiente de perdida para la rejilla 2.25\n",
      "Perdida de carga pasando por la rejilla es 0.4162 centimeter\n"
     ]
    }
   ],
   "source": [
    "Caudal = 60 * u.L/u.s\n",
    "\n",
    "# datos requeridos (no tengo estos datos)\n",
    "Rejilla_H = 50 * u.cm\n",
    "Rejilla_porosidad = 0.4\n",
    "\n",
    "# datos de memoria tecnica\n",
    "Floc_canal_W = 63 * u.cm\n",
    "Floc_aguas_abajo_H = 2.08 * u.m\n",
    "\n",
    "# datos calculados\n",
    "Rejilla_V = Caudal/(Floc_canal_W * Rejilla_H)\n",
    "Rejilla_Ke = (1/Rejilla_porosidad - 1)**2\n",
    "print('Coeficiente de perdida para la rejilla', Rejilla_Ke)\n",
    "Rejilla_HL = (Rejilla_Ke * Rejilla_V**2/(2 * u.gravity)).to(u.cm)\n",
    "print('Perdida de carga pasando por la rejilla es',Rejilla_HL)"
   ]
  },
  {
   "cell_type": "markdown",
   "metadata": {
    "colab_type": "text",
    "id": "nYWI8NIbx_KD"
   },
   "source": [
    "# Floculacion"
   ]
  },
  {
   "cell_type": "code",
   "execution_count": 56,
   "metadata": {
    "colab": {
     "base_uri": "https://localhost:8080/",
     "height": 119
    },
    "colab_type": "code",
    "executionInfo": {
     "elapsed": 11925,
     "status": "ok",
     "timestamp": 1564673025008,
     "user": {
      "displayName": "Monroe Weber-Shirk",
      "photoUrl": "https://lh3.googleusercontent.com/-MLlwg5-TZXw/AAAAAAAAAAI/AAAAAAABABc/VNaeCKBHEEk/s64/photo.jpg",
      "userId": "08369668289863895493"
     },
     "user_tz": 240
    },
    "id": "0KuH595v9ZCh",
    "outputId": "4bb76b6f-8643-4340-d2a4-4d015244daad"
   },
   "outputs": [
    {
     "name": "stdout",
     "output_type": "stream",
     "text": [
      "Volumen del floculador 3.442e+04 liter\n",
      "Tiempo de floculacion 9.562 minute\n",
      "Perdida de carga en el floculador 49.31 centimeter\n",
      "viscosidad de agua 1.3e-06 meter ** 2 / second\n",
      "Gradiente de velocidad 81.08 / second\n",
      "Gt 4.652e+04 dimensionless\n"
     ]
    }
   ],
   "source": [
    "\n",
    "\n",
    "Floc_canal_L =\t7.09 * u.m\n",
    "Tanque_Entrada_L = 2.09 * u.m\n",
    "Floc_canal_N = 4\n",
    "Deflectores_S = 39.2 * u.cm\n",
    "Deflectores_Ke = 2.56\n",
    "Expansions_N = 11 + 16 + 2*17 + 3\n",
    "Floc_perdida_diseño_HL = 50 * u.cm\n",
    "Floc_volumen = ((Floc_canal_N * Floc_canal_L - Tanque_Entrada_L) * Floc_aguas_abajo_H * Floc_canal_W).to(u.L)\n",
    "print('Volumen del floculador',Floc_volumen)\n",
    "t_calculated = (Floc_volumen/Caudal).to(u.min)\n",
    "print('Tiempo de floculacion',t_calculated)\n",
    "\n",
    "Floc_V = Caudal/(Floc_canal_W * Deflectores_S)\n",
    "Floc_HL = (Expansions_N*Deflectores_Ke * Floc_V**2/(2*u.gravity)).to(u.cm)\n",
    "print('Perdida de carga en el floculador',Floc_HL)\n",
    "\n",
    "Temp = 10 * u.degC\n",
    "nu = ac.viscosity_kinematic_water(Temp)\n",
    "print('viscosidad de agua',nu)\n",
    "\n",
    "G = (np.sqrt(u.gravity * Floc_perdida_diseño_HL/(nu * t_calculated))).to(1/u.s)\n",
    "Gt = (G*t_calculated).to(u.dimensionless)\n",
    "print('Gradiente de velocidad',G)\n",
    "print('Gt',Gt)"
   ]
  },
  {
   "cell_type": "markdown",
   "metadata": {
    "colab_type": "text",
    "id": "kBO80Pi3HGj_"
   },
   "source": [
    "## Propuesta para floculador\n",
    "\n",
    "Parece que la perdida de carga sea mas que 50 cm segun el diseño. Y es posible que el diseño tenga un error en el coeficiente de perdida.\n",
    "\n",
    "Gracias es la primera planta con un diseno que utiza 50 cm de perdida de carga por el floculador. Por eso es importante tener una buena medida del coeficiente de perdida por los deflectores. Es posible que la estimacion que tenemos es un bajo estimación. Por eso tenemos que medir la perdida de carga por un canal de deflectores. \n",
    "\n",
    "* Arreglar y colocar el modulo con 17 deflectores en un canal\n",
    "* Aumetar el caudal hasta 60 L/s\n",
    "* Medir la perdida de carga en este canal (cambio de nivel)\n",
    "* Calcular el coeficiente de perdida de los deflectores\n"
   ]
  },
  {
   "cell_type": "code",
   "execution_count": 50,
   "metadata": {
    "colab": {
     "base_uri": "https://localhost:8080/",
     "height": 34
    },
    "colab_type": "code",
    "executionInfo": {
     "elapsed": 11900,
     "status": "ok",
     "timestamp": 1564673025009,
     "user": {
      "displayName": "Monroe Weber-Shirk",
      "photoUrl": "https://lh3.googleusercontent.com/-MLlwg5-TZXw/AAAAAAAAAAI/AAAAAAABABc/VNaeCKBHEEk/s64/photo.jpg",
      "userId": "08369668289863895493"
     },
     "user_tz": 240
    },
    "id": "WnJglrRiHnvn",
    "outputId": "463bcdd7-71c8-44ea-d46a-9666f4c11c00"
   },
   "outputs": [
    {
     "name": "stdout",
     "output_type": "stream",
     "text": [
      "Nueva estimacion del coeficiente de perdida por cada deflector 3.692 dimensionless\n"
     ]
    }
   ],
   "source": [
    "# dato requerido\n",
    "# La medida de la perdida. Hay que poner este dato para hacer los calculos abajo!\n",
    "Floc_Canal_HL = 20 * u.cm\n",
    "\n",
    "# calculos\n",
    "Floc_Canal_Deflectores_N = 17\n",
    "Floc_Canal_Expansions_N = Floc_Canal_Deflectores_N + 1 \n",
    "Nuevo_Deflectores_Ke = (Floc_Canal_HL/(Floc_Canal_Expansions_N * Floc_V**2/(2*u.gravity))).to(u.dimensionless)\n",
    "print('Nueva estimacion del coeficiente de perdida por cada deflector',Nuevo_Deflectores_Ke)\n",
    "\n"
   ]
  },
  {
   "cell_type": "markdown",
   "metadata": {
    "colab_type": "text",
    "id": "FovsMFJ5KE2q"
   },
   "source": [
    "Dado la nueva estimacion del coeficiente de perdida por cada deflector es necesario actualizar el diseño de los deflectores.\n",
    "\n",
    "$G_{CS} = \\sqrt{\\frac{g h_L}{\\nu \\theta}}$\n",
    "\n",
    "$S = \\left( \\frac{K}{2 H_e G_{CS}^2 \\nu } \\right)^\\frac{1}{3} \\frac{Q}{W_{channel}}$\n",
    "\n",
    "$S = \\left( \\frac{K \\theta}{2 H_e g h_L } \\right)^\\frac{1}{3} \\frac{Q}{W_{channel}}$\n",
    "\n"
   ]
  },
  {
   "cell_type": "code",
   "execution_count": 51,
   "metadata": {
    "colab": {
     "base_uri": "https://localhost:8080/",
     "height": 34
    },
    "colab_type": "code",
    "executionInfo": {
     "elapsed": 11881,
     "status": "ok",
     "timestamp": 1564673025010,
     "user": {
      "displayName": "Monroe Weber-Shirk",
      "photoUrl": "https://lh3.googleusercontent.com/-MLlwg5-TZXw/AAAAAAAAAAI/AAAAAAABABc/VNaeCKBHEEk/s64/photo.jpg",
      "userId": "08369668289863895493"
     },
     "user_tz": 240
    },
    "id": "8tXVWjOpKOTx",
    "outputId": "8906015b-282b-4b99-afc3-13a6b38a37e2"
   },
   "outputs": [
    {
     "name": "stdout",
     "output_type": "stream",
     "text": [
      "El nuevo espacio entre deflectores es 44.77 centimeter\n"
     ]
    }
   ],
   "source": [
    "Nuevo_S = ((Nuevo_Deflectores_Ke/(2*Floc_aguas_abajo_H * G**2 * nu))**(1/3) * Caudal/Floc_canal_W).to(u.cm)\n",
    "print('El nuevo espacio entre deflectores es',Nuevo_S)"
   ]
  },
  {
   "cell_type": "markdown",
   "metadata": {
    "colab_type": "text",
    "id": "SGmuEjgmrv7A"
   },
   "source": [
    "## Fuerza en los tubos del floculador\n",
    "\n",
    "La perdida de carga en un canal de floculacion resulta en una fuerza hidrostatica que los tubos llevan hacia el pared. La fuerza esta casi igual en los 6 tubos. \n",
    "\n",
    "$F_{total} = \\rho g H_L (H*W) $"
   ]
  },
  {
   "cell_type": "code",
   "execution_count": 52,
   "metadata": {
    "colab": {
     "base_uri": "https://localhost:8080/",
     "height": 34
    },
    "colab_type": "code",
    "executionInfo": {
     "elapsed": 11869,
     "status": "ok",
     "timestamp": 1564673025010,
     "user": {
      "displayName": "Monroe Weber-Shirk",
      "photoUrl": "https://lh3.googleusercontent.com/-MLlwg5-TZXw/AAAAAAAAAAI/AAAAAAABABc/VNaeCKBHEEk/s64/photo.jpg",
      "userId": "08369668289863895493"
     },
     "user_tz": 240
    },
    "id": "9sV5nDqqtJdN",
    "outputId": "fa81db55-cb5e-46e9-a28e-dbbe7d597abf"
   },
   "outputs": [
    {
     "name": "stdout",
     "output_type": "stream",
     "text": [
      "La fuerza en cada tubo en los modulos de deflectores es 332 newton\n"
     ]
    }
   ],
   "source": [
    "# Fuerza en cada tubo\n",
    "Floc_modulo_tubos_N = 6\n",
    "Floc_Canal_Diseño_HL = 50 * u.cm/4\n",
    "Fuerza =( ac.density_water(Temp) * u.gravity * Floc_Canal_Diseño_HL * Floc_canal_W * (Floc_aguas_abajo_H + 50 * u.cm)/Floc_modulo_tubos_N).to(u.N)\n",
    "print('La fuerza en cada tubo en los modulos de deflectores es',Fuerza)"
   ]
  },
  {
   "cell_type": "markdown",
   "metadata": {
    "colab_type": "text",
    "id": "ZfwZs-45u7od"
   },
   "source": [
    "La fuerza en cada tubo es alto. Es importante reconocer que este fuerza es por la perdida de carga y no por el largo del canal ni por el caudal. Asi que si esta fuerza es mayor que lo que un tubo de media pulgada puede resistir seria necesario usar un tubo mas grande. Por supuesto deben usar tubos para alta presion de agua para que sean mas fuertes. \n",
    "\n",
    "Un tubo de 1/2\" de cedula 40 puede aguantar [1174 N de fuerza en tensión](https://www.pvcfittingsonline.com/resource-center/strength-of-pvc-pipe-with-strength-chart/)."
   ]
  },
  {
   "cell_type": "markdown",
   "metadata": {
    "colab_type": "text",
    "id": "onzaqq_EleLo"
   },
   "source": [
    "## Canal entre tanque de sedimentacion y filtros\n",
    "\n",
    "Este canal require un buen analisis para ver que seria la mejor solucion. Primero necesitamos el dato de un caudal y la perdida que se puede medir en el canal. Necesitamos saber la perdida por el trayecto de los tanques de sedimentacion y por el canal conector que lleva el agua al canal de entrada de los filtros. "
   ]
  },
  {
   "cell_type": "code",
   "execution_count": 53,
   "metadata": {
    "colab": {
     "base_uri": "https://localhost:8080/",
     "height": 51
    },
    "colab_type": "code",
    "executionInfo": {
     "elapsed": 11856,
     "status": "ok",
     "timestamp": 1564673025011,
     "user": {
      "displayName": "Monroe Weber-Shirk",
      "photoUrl": "https://lh3.googleusercontent.com/-MLlwg5-TZXw/AAAAAAAAAAI/AAAAAAABABc/VNaeCKBHEEk/s64/photo.jpg",
      "userId": "08369668289863895493"
     },
     "user_tz": 240
    },
    "id": "etg2oy9ME6-h",
    "outputId": "5cf69e70-f3c2-4a3f-e704-415215bd9bde"
   },
   "outputs": [
    {
     "name": "stdout",
     "output_type": "stream",
     "text": [
      "Velocidad en canal de salida 0.4806 meter / second\n",
      "Perdidad en canal de salida solamente considerando el coeficiente por las equinas y no considerando que la profundidad del canal va a bajar es 2.355 centimeter\n"
     ]
    }
   ],
   "source": [
    "# Perdida en el canal de salida del sedimentacion\n",
    "Sed_vertedero_salida_H = 43.5 * u.cm\n",
    "Sed_canal_salida_W = 28.7 * u.cm\n",
    "Sed_canal_salida_V = (Caudal/(Sed_vertedero_salida_H*Sed_canal_salida_W)).to(u.m/u.s)\n",
    "Sed_canal_K = 2\n",
    "print('Velocidad en canal de salida',Sed_canal_salida_V)\n",
    "Sed_canal_salida_HL = (Sed_canal_K * Sed_canal_salida_V**2/(2 * u.gravity)).to(u.cm)\n",
    "print('Perdidad en canal de salida solamente considerando el coeficiente por las equinas y no considerando que la profundidad del canal va a bajar es',Sed_canal_salida_HL)"
   ]
  },
  {
   "cell_type": "markdown",
   "metadata": {
    "colab_type": "text",
    "id": "ASZjLdwqlQVA"
   },
   "source": [
    "Necesitamos el dato de la perdida de profundidad entre aguas ariba en el canal de salida del tanque de sedimentacion y donde echa el agua al canal de entrada de los filtros.  Abajo hagamos una mejor estimacion sobre el desnivel en el canal considerando que el nivel de agua va a reducir y por eso la velocidad va a aumetar y las perdidas van a aumetar."
   ]
  },
  {
   "cell_type": "code",
   "execution_count": 54,
   "metadata": {
    "colab": {
     "base_uri": "https://localhost:8080/",
     "height": 51
    },
    "colab_type": "code",
    "executionInfo": {
     "elapsed": 11842,
     "status": "ok",
     "timestamp": 1564673025011,
     "user": {
      "displayName": "Monroe Weber-Shirk",
      "photoUrl": "https://lh3.googleusercontent.com/-MLlwg5-TZXw/AAAAAAAAAAI/AAAAAAABABc/VNaeCKBHEEk/s64/photo.jpg",
      "userId": "08369668289863895493"
     },
     "user_tz": 240
    },
    "id": "xcIZnwySRZTX",
    "outputId": "591ae77a-0946-4f26-c72a-11e065ec571e"
   },
   "outputs": [
    {
     "name": "stdout",
     "output_type": "stream",
     "text": [
      "La perdida de altura seria  6.671 centimeter\n",
      "Fuerza cortante en los paredes del canal da una coeficiente de perdida de 0.0094 meter / centimeter\n"
     ]
    },
    {
     "name": "stderr",
     "output_type": "stream",
     "text": [
      "C:\\Users\\mw24\\Anaconda3\\lib\\site-packages\\aguaclara\\core\\physchem.py:184: UserWarning: radius_hydraulic is deprecated; use radius_hydraulic_rect instead.\n",
      "  'instead.', UserWarning)\n"
     ]
    }
   ],
   "source": [
    "# estimacion de la perdida (recursive calculation) - \n",
    "Perdida_de_altura = 7.23 * u.cm\n",
    "Rugosidad = 1 * u.mm\n",
    "# coeficiente de perdida para las esquinas\n",
    "L = 15 * u.m\n",
    "Rh = ac.radius_hydraulic(Sed_canal_salida_W, Sed_vertedero_salida_H - Perdida_de_altura,True)\n",
    "f = ac.fric_rect(Caudal, Sed_canal_salida_W, Sed_vertedero_salida_H - Perdida_de_altura, nu, Rugosidad, True)\n",
    "Perdida_de_altura = ((Caudal/(Sed_canal_salida_W * (Sed_vertedero_salida_H - Perdida_de_altura )))**2/(2*u.gravity) * (Sed_canal_K + 1 + f * L/(4*Rh))).to(u.cm)\n",
    "print('La perdida de altura seria ',Perdida_de_altura)\n",
    "print('Fuerza cortante en los paredes del canal da una coeficiente de perdida de',ac.round_sig_figs(f * L/(4*Rh),2))"
   ]
  },
  {
   "cell_type": "markdown",
   "metadata": {
    "colab_type": "text",
    "id": "vJIhr2XBw2cH"
   },
   "source": [
    "El vena contracta para una esquina en el canal es 0.62\n",
    "$$K_e = \\left( \\frac{A_{out}}{A_{in}} - 1 \\right)^2$$"
   ]
  },
  {
   "cell_type": "code",
   "execution_count": 55,
   "metadata": {
    "colab": {
     "base_uri": "https://localhost:8080/",
     "height": 34
    },
    "colab_type": "code",
    "executionInfo": {
     "elapsed": 11825,
     "status": "ok",
     "timestamp": 1564673025012,
     "user": {
      "displayName": "Monroe Weber-Shirk",
      "photoUrl": "https://lh3.googleusercontent.com/-MLlwg5-TZXw/AAAAAAAAAAI/AAAAAAABABc/VNaeCKBHEEk/s64/photo.jpg",
      "userId": "08369668289863895493"
     },
     "user_tz": 240
    },
    "id": "i9w9i8aUpo2Y",
    "outputId": "cce3507f-c68d-4279-82c1-f6ac74ff0e29"
   },
   "outputs": [
    {
     "name": "stdout",
     "output_type": "stream",
     "text": [
      "La coeficiente de perdida de una esquina es 0.38\n"
     ]
    }
   ],
   "source": [
    "Canal_esquina_Ke = (1/0.62 - 1)**2\n",
    "print('La coeficiente de perdida de una esquina es', ac.round_sig_figs(Canal_esquina_Ke,2))"
   ]
  },
  {
   "cell_type": "markdown",
   "metadata": {
    "colab_type": "text",
    "id": "ZGlQyeM4qmQN"
   },
   "source": [
    "Las esquinas no deben ser tan mal. Por eso tengo la duda que tal vez donde se reune los dos canales alli el canal no es suficiente ancho y por eso hay altas perdidas alli. Vale la pena averiguar donde estan las perdidas para saber la major manera de resolver el problema.\n",
    "\n",
    "## Opciones para mantener los nivels funcionando entre tanque de sedimentacion y filtros\n",
    "\n",
    "Segun los calculos la mayoria de la perdida esta por esquinas, pero falta datos para asegurar eso.\n",
    "\n",
    "\n",
    "1.   Aumentar el vertedero de salida del tanque de sedimentacion y la pared entre agua floculada y agua sedimentada\n",
    "1.   Bajar el nivel de los vertederos entrando a los filtros\n",
    "1.   Reducir las perdidas en el canal\n",
    "    1. ampliar el canal conector especialmente donde los dos canales conectores reunen\n"
   ]
  }
 ],
 "metadata": {
  "colab": {
   "collapsed_sections": [],
   "name": "Gracias_Review.ipynb",
   "provenance": [
    {
     "file_id": "1rK7b0KTHLAQUAy4mERwwvVRPfXUu5TVZ",
     "timestamp": 1564573297076
    }
   ]
  },
  "kernelspec": {
   "display_name": "Python 3",
   "language": "python",
   "name": "python3"
  },
  "language_info": {
   "codemirror_mode": {
    "name": "ipython",
    "version": 3
   },
   "file_extension": ".py",
   "mimetype": "text/x-python",
   "name": "python",
   "nbconvert_exporter": "python",
   "pygments_lexer": "ipython3",
   "version": "3.7.3"
  }
 },
 "nbformat": 4,
 "nbformat_minor": 1
}
