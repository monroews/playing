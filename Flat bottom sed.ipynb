{
  "nbformat": 4,
  "nbformat_minor": 0,
  "metadata": {
    "colab": {
      "name": "Flat bottom sed.ipynb",
      "provenance": [],
      "collapsed_sections": [],
      "authorship_tag": "ABX9TyNZffWXrjZ86ap+E3hcX6or"
    },
    "kernelspec": {
      "name": "python3",
      "display_name": "Python 3"
    }
  },
  "cells": [
    {
      "cell_type": "code",
      "metadata": {
        "id": "DOReVl-GyHip",
        "colab_type": "code",
        "outputId": "7518e598-5458-41bb-e6f3-ac9d0a781bb4",
        "colab": {
          "base_uri": "https://localhost:8080/",
          "height": 238
        }
      },
      "source": [
        "!pip install aguaclara"
      ],
      "execution_count": 14,
      "outputs": [
        {
          "output_type": "stream",
          "text": [
            "Requirement already satisfied: aguaclara in /usr/local/lib/python3.6/dist-packages (0.2.1)\n",
            "Requirement already satisfied: pandas in /usr/local/lib/python3.6/dist-packages (from aguaclara) (1.0.3)\n",
            "Requirement already satisfied: matplotlib in /usr/local/lib/python3.6/dist-packages (from aguaclara) (3.2.1)\n",
            "Requirement already satisfied: urllib3 in /usr/local/lib/python3.6/dist-packages (from aguaclara) (1.24.3)\n",
            "Requirement already satisfied: scipy in /usr/local/lib/python3.6/dist-packages (from aguaclara) (1.4.1)\n",
            "Requirement already satisfied: pint==0.8.1 in /usr/local/lib/python3.6/dist-packages (from aguaclara) (0.8.1)\n",
            "Requirement already satisfied: pytz>=2017.2 in /usr/local/lib/python3.6/dist-packages (from pandas->aguaclara) (2018.9)\n",
            "Requirement already satisfied: numpy>=1.13.3 in /usr/local/lib/python3.6/dist-packages (from pandas->aguaclara) (1.18.4)\n",
            "Requirement already satisfied: python-dateutil>=2.6.1 in /usr/local/lib/python3.6/dist-packages (from pandas->aguaclara) (2.8.1)\n",
            "Requirement already satisfied: pyparsing!=2.0.4,!=2.1.2,!=2.1.6,>=2.0.1 in /usr/local/lib/python3.6/dist-packages (from matplotlib->aguaclara) (2.4.7)\n",
            "Requirement already satisfied: cycler>=0.10 in /usr/local/lib/python3.6/dist-packages (from matplotlib->aguaclara) (0.10.0)\n",
            "Requirement already satisfied: kiwisolver>=1.0.1 in /usr/local/lib/python3.6/dist-packages (from matplotlib->aguaclara) (1.2.0)\n",
            "Requirement already satisfied: six>=1.5 in /usr/local/lib/python3.6/dist-packages (from python-dateutil>=2.6.1->pandas->aguaclara) (1.12.0)\n"
          ],
          "name": "stdout"
        }
      ]
    },
    {
      "cell_type": "code",
      "metadata": {
        "id": "X9O7HTTryKfH",
        "colab_type": "code",
        "colab": {}
      },
      "source": [
        "import aguaclara as ac\n",
        "from aguaclara.core.units import unit_registry as u\n",
        "import numpy as np\n",
        "import pandas as pd\n",
        "import matplotlib.pyplot as plt"
      ],
      "execution_count": 0,
      "outputs": []
    },
    {
      "cell_type": "markdown",
      "metadata": {
        "id": "4HcPDGk-0E3K",
        "colab_type": "text"
      },
      "source": [
        "$$ v_c = 2.41 v_o \\sqrt{\\frac{w_0}{x}}$$\n",
        "\n",
        "The minimum distance s that this equation makes sense is where $v_o$ = $v_c$.\n",
        "\n",
        "$$ 1 = 2.41^2 \\frac{w_0}{x_{min}}$$\n",
        "\n",
        "$$ x_{min} =  2.41^2 w_0$$\n",
        "\n",
        "The distance over which the velocity is reduced by a factor of 2 is:\n",
        "\n",
        "$$ 0.5 = 2.41  \\sqrt{\\frac{w_0}{x}}$$\n",
        "\n",
        "$$ x_{0.5v} =  4 * 2.41^2 w_0 = 23w_0$$\n",
        "$$ x_{0.25v} =  16 * 2.41^2 w_0 = 96w_0$$\n",
        "\n"
      ]
    },
    {
      "cell_type": "code",
      "metadata": {
        "id": "MvdFVU4EyVRR",
        "colab_type": "code",
        "outputId": "6007d93e-7fc7-4244-f365-de7a6674c407",
        "colab": {
          "base_uri": "https://localhost:8080/",
          "height": 333
        }
      },
      "source": [
        "Sed_w = 42 * u.inch\n",
        "Jet_w = 4 * u.mm\n",
        "Sed_v_up = 1 * u.mm/u.s \n",
        "Sed_v_jet = (Sed_v_up * Sed_w/Jet_w).to(u.mm/u.s)\n",
        "print(Sed_v_jet)\n",
        "\n",
        "def v_jet(v_0,w_0,x):\n",
        "  return (2.41 * v_0 * np.sqrt(w_0/x)).to(u.m/u.s)\n",
        "\n",
        "xhalfv = (2.41*4)**2 * Jet_w\n",
        "print((2.41*2)**2)\n",
        "print('the half velocity distance is',xhalfv)\n",
        "min_x = (2.41**2 * Jet_w).to(u.m)\n",
        "\n",
        "xrange = np.linspace(min_x.magnitude,1,50) * u.m \n",
        "plt.plot(xrange,v_jet(Sed_v_jet,Jet_w,xrange))\n"
      ],
      "execution_count": 31,
      "outputs": [
        {
          "output_type": "stream",
          "text": [
            "266.7 millimeter / second\n",
            "23.232400000000002\n",
            "the half velocity distance is 371.7 millimeter\n"
          ],
          "name": "stdout"
        },
        {
          "output_type": "execute_result",
          "data": {
            "text/plain": [
              "[<matplotlib.lines.Line2D at 0x7f70438e2d68>]"
            ]
          },
          "metadata": {
            "tags": []
          },
          "execution_count": 31
        },
        {
          "output_type": "display_data",
          "data": {
            "image/png": "[encoded data removed]",
            "text/plain": [
              "<Figure size 432x288 with 1 Axes>"
            ]
          },
          "metadata": {
            "tags": [],
            "needs_background": "light"
          }
        }
      ]
    },
    {
      "cell_type": "code",
      "metadata": {
        "id": "QAUl6YxZmCqy",
        "colab_type": "code",
        "colab": {}
      },
      "source": [
        "Q=100 * u.L/u.s\n",
        "Q_ratio = 0.85\n"
      ],
      "execution_count": 0,
      "outputs": []
    },
    {
      "cell_type": "markdown",
      "metadata": {
        "id": "oFT5GeST0zFt",
        "colab_type": "text"
      },
      "source": [
        "Analyze Casey's jet experiments\n",
        "Flocculator diameter\n",
        "\n",
        "First figure out what the flow rate was\n",
        "Then figure out what the inlet tube diameter was for the maximum recommended velocity.\n",
        "Use current equations to estimate what that EDR_max is.\n",
        "Turn that maximum EDR into a guideline for our designs.\n"
      ]
    },
    {
      "cell_type": "code",
      "metadata": {
        "id": "bV9qWuXSysYH",
        "colab_type": "code",
        "colab": {
          "base_uri": "https://localhost:8080/",
          "height": 102
        },
        "outputId": "33107bf7-5a0b-434c-d1a7-ca25ddec6fa8"
      },
      "source": [
        "S_jet = 12.7 * u.mm\n",
        "D_jet = np.linspace(2,11.7,50) * u.mm\n",
        "D_jet_min = 2 * u.mm\n",
        "V_jet_max = 1.9 * u.m/u.s\n",
        "A_jet_min = ac.area_circle(D_jet_min)\n",
        "Q_12est = (V_jet_max*A_jet_min).to(u.mL/u.s)\n",
        "# print('Flow rate for 1.6 mm/s upflow',Q_16)\n",
        "# Q_12est = Q_16/1.6*1.2\n",
        "print('Flow rate for 1.2 mm/s upflow based on maximum jet velocity',Q_12est)\n",
        "#check Re in flocculator\n",
        "temp = 20 * u.degC\n",
        "Re_12 = 815\n",
        "D_floc = 9.5 * u.mm\n",
        "v_floc = Re_12 * ac.viscosity_kinematic_water(temp)/D_floc\n",
        "Q_floc_12 = (v_floc * ac.area_circle(D_floc)).to(u.mL/u.s)\n",
        "print('Flow rate for 1.2 mm/s upflow',Q_floc_12)\n",
        "# Use the average of the two flow rate estimates\n",
        "Q_12 = (Q_12est +  Q_floc_12)/2\n",
        "print('Flow rate for 1.2 mm/s upflow',Q_12)\n",
        "\n",
        "\n",
        "v_ratio = 1.9/0.06\n",
        "print('velocity ratio',v_ratio)\n",
        "A_ratio = (11.7/2)**2\n",
        "print('area ratio',A_ratio)"
      ],
      "execution_count": 42,
      "outputs": [
        {
          "output_type": "stream",
          "text": [
            "Flow rate for 1.2 mm/s upflow based on maximum jet velocity 5.969 milliliter / second\n",
            "Flow rate for 1.2 mm/s upflow 6.103 milliliter / second\n",
            "Flow rate for 1.2 mm/s upflow 6.036 milliliter / second\n",
            "velocity ratio 31.666666666666668\n",
            "area ratio 34.2225\n"
          ],
          "name": "stdout"
        }
      ]
    },
    {
      "cell_type": "markdown",
      "metadata": {
        "id": "7_Ppkk5q8sWe",
        "colab_type": "text"
      },
      "source": [
        "$$A_{PlaneJet} = S_{Tank}W_{Jet} = \\frac{\\pi}{4}D_{Jet}^2$$\n",
        "$$ \\epsilon_{Jet} = \\frac{(\\Pi_{Jet}V_{Jet})^3}{W_{Jet}}$$\n",
        "Solve for $D_{Jet}$\n",
        "$$W_{Jet} = \\frac{\\pi D_{Jet}^2}{4S_{Tank}}$$\n",
        "$$V_{Jet} = \\frac{Q}{\\frac{\\pi}{4}D_{Jet}^2}$$\n",
        "\n",
        "$$ \\epsilon_{Jet} = \\frac{(\\Pi_{Jet}\\frac{Q}{\\frac{\\pi}{4}D_{Jet}^2})^3}{\\frac{\\pi D_{Jet}^2}{4S_{Tank}}}$$\n",
        "\n",
        "$$ \\epsilon_{Jet} = \\Pi_{Jet}^3\\frac{4^4 Q^3 S_{Tank}}{\\pi^4D_{Jet}^8}$$\n",
        "\n",
        "$$  D_{Jet}= \\left(\\Pi_{Jet}^3\\frac{4^4 Q^3 S_{Tank}}{\\pi^4 \\epsilon_{Jet}}\\right)^\\frac{1}{8}$$\n"
      ]
    },
    {
      "cell_type": "code",
      "metadata": {
        "id": "6nNw0AxE2MKz",
        "colab_type": "code",
        "colab": {
          "base_uri": "https://localhost:8080/",
          "height": 34
        },
        "outputId": "9f43e34f-f3c2-4f96-b671-49d81bcfeeff"
      },
      "source": [
        "\n",
        "EDR_Casey = 300 * u.mW/u.kg\n",
        "Pi_jet_Plane_Casey = 0.23\n",
        "D_jet_min = ((Pi_jet_Plane_Casey**3 * 4**4 * Q_12**3 * S_jet/np.pi**4/EDR_Casey)**(1/8)).to(u.mm)\n",
        "print('The minimum tube diameter corresponding to the max successful EDR is',D_jet_min)"
      ],
      "execution_count": 57,
      "outputs": [
        {
          "output_type": "stream",
          "text": [
            "The minimum tube diameter corresponding to the max successful EDR is 4.833 millimeter\n"
          ],
          "name": "stdout"
        }
      ]
    },
    {
      "cell_type": "markdown",
      "metadata": {
        "id": "N2daky8sCWxW",
        "colab_type": "text"
      },
      "source": [
        "$$\\varepsilon_{Max} = \\Pi_{JetPlane} \\frac{  \\bar v_{Jet} ^3}{W_{Jet}}$$\n",
        "\n",
        "$$W_{Jet} = \\frac{Q_{Jet}}{\\bar v_{Jet}S_{Jet}}$$\n",
        "\n",
        "$$\\varepsilon_{Max} = \\Pi_{JetPlane} \\frac{  \\bar v_{Jet} ^4 S_{Jet}}{Q_{Jet}}$$\n",
        "\n",
        "We need to identify the actual constraint and show that it is a dimensionless parameter. \n",
        "\n",
        "$$G_{CS} = \\sqrt{\\frac{\\bar \\varepsilon}{\\nu}}$$\n",
        "\n",
        "$$\\tau = \\mu \\frac{du}{dy}$$\n",
        "\n",
        "Thereforce the force per unit area (shear stress) is given by\n",
        "\n",
        "$$\\tau = \\mu G$$\n",
        "\n",
        "Thus the design constraint for energy dissipation rates or velocity gradients should be this shear stress\n",
        "\n",
        "$$\\nu = \\frac{\\mu}{\\rho}$$\n",
        "\n",
        "$$\\tau = \\rho \\sqrt{\\varepsilon \\nu }$$"
      ]
    },
    {
      "cell_type": "code",
      "metadata": {
        "id": "G-I4WjMOA15F",
        "colab_type": "code",
        "colab": {
          "base_uri": "https://localhost:8080/",
          "height": 68
        },
        "outputId": "89b767f1-37d9-41cb-9b48-0b92a69cfdd9"
      },
      "source": [
        "v_jet_max_successful = Q_12/ ac.area_circle(D_jet_min)\n",
        "EDR_max = (ac.con.JET_PLANE_RATIO *v_jet_max_successful**4 * S_jet/Q_12).to(u.mW/u.kg)\n",
        "print('The revised maximum energy dissipation rate for the plane jet is',EDR_max)\n",
        "tau_max = (ac.density_water(temp) * np.sqrt(EDR_max * ac.viscosity_kinematic_water(temp))).to(u.Pa)\n",
        "print('The maximum shear stress for sed tank inlets is', tau_max)\n",
        "G_max = (tau_max/ ac.viscosity_dynamic_water(temp)).to(u.Hz)\n",
        "print('The maximum velocity gradient that can be used prior to the sed tank is',G_max)"
      ],
      "execution_count": 60,
      "outputs": [
        {
          "output_type": "stream",
          "text": [
            "The revised maximum energy dissipation rate for the plane jet is 305.7 milliwatt / kilogram\n",
            "The maximum shear stress for sed tank inlets is 0.5529 pascal\n",
            "The maximum velocity gradient that can be used prior the sed tank is 552 hertz\n"
          ],
          "name": "stdout"
        }
      ]
    },
    {
      "cell_type": "markdown",
      "metadata": {
        "id": "_N89v70TGg4U",
        "colab_type": "text"
      },
      "source": [
        "Can we turn this shear stress into a floc size?\n",
        "If we assume 3 covalent bonds at 1.6 nN each, then we can solve for the \n",
        "\n",
        "The [force acting on a floc to tear it apart](https://aguaclara.github.io/Textbook/Flocculation/Floc_Intro.html#equation-shear-force-on-doublet) is proportional to \n",
        "\n",
        "$$F_{shear_{max}} = \\frac{3 \\pi}{4} d_{floc}^2 \\mu G$$\n",
        "\n",
        "where $\\mu G$ is the fluid shear stress. Thus given a fluid shear stress and floc diameter we can find the force that is acting to tear the floc apart.\n",
        "\n",
        "$$F_{shear_{max}} = \\frac{3 \\pi}{4} d_{floc}^2 \\tau$$\n",
        "\n",
        "If we know the bond strength (estimated to be 1.6 nN for covalent bonds) then we can solve for the diameter of the floc.\n",
        "\n",
        "$$F_{covalent} = \\frac{3 \\pi}{4} d_{floc}^2 \\tau$$\n",
        "\n",
        "$$d_{floc}=\\sqrt{\\frac{4F_{covalent}}{3 \\pi \\tau}}$$\n"
      ]
    },
    {
      "cell_type": "code",
      "metadata": {
        "id": "zxVD_nRRLyj1",
        "colab_type": "code",
        "colab": {
          "base_uri": "https://localhost:8080/",
          "height": 51
        },
        "outputId": "1f64175a-6c6b-4330-9233-fa6010afad65"
      },
      "source": [
        "F_covalent = 1.6 * u.nN\n",
        "d_floc_diffuser = (np.sqrt(4*F_covalent/(1 * np.pi * tau_max))).to(u.um)\n",
        "print(d_floc_diffuser)\n",
        "# now how fast does this baby settled?\n",
        "ConcAl = 5 * u.mg/u.L\n",
        "ConcClay = 50 * u.NTU\n",
        "\n",
        "v_t = ac.vel_term_floc(ConcAl,ConcClay, ac.PACl ,ac.Clay,1.8,d_floc_diffuser,temp)\n",
        "print(v_t.to(u.mm/u.s))"
      ],
      "execution_count": 62,
      "outputs": [
        {
          "output_type": "stream",
          "text": [
            "60.7 micrometer\n",
            "0.09354 millimeter / second\n"
          ],
          "name": "stdout"
        }
      ]
    },
    {
      "cell_type": "markdown",
      "metadata": {
        "id": "mrN7d2YXEVpL",
        "colab_type": "text"
      },
      "source": [
        "Okay! The EDR estimate from Casey is solid. How does this translate into design?\n",
        "Let's put this in terms of vjet and jet spacing given this shear stress constraint.\n",
        "\n",
        "From continuity we have\n",
        "\n",
        "$$\\bar v_{jet} W_{jet} = \\bar v_{z_{fb}} W_{Sed}$$\n",
        "\n",
        "Solve to find the thickness of the plane jet.\n",
        "\n",
        "$$W_{jet} = \\frac{\\bar v_{z_{fb}} W_{Sed}}{\\bar v_{jet} }$$\n",
        "\n",
        "We have a constraint on the fluid shear stress from Casey's research of 0.55 Pa.\n",
        "\n",
        "$$\\tau_{max} = \\rho \\sqrt{\\varepsilon \\nu }$$\n",
        "\n",
        "Substitute the definition of energy dissipation rate in a plane jet.\n",
        "\n",
        "$$\\varepsilon_{Max} = \\Pi_{JetPlane} \\frac{  \\bar v_{Jet} ^3}{W_{Jet}}$$\n",
        "\n",
        "to get\n",
        "\n",
        "$$\\tau_{max} = \\rho \\sqrt{\\nu \\Pi_{JetPlane} \\frac{  \\bar v_{Jet} ^3}{W_{Jet}}}$$\n",
        "\n",
        "Use continuity to eliminate $W_{jet}$\n",
        "\n",
        "$$\\tau_{max} = \\rho \\bar v_{Jet} ^2 \\sqrt{ \\frac{\\nu \\Pi_{JetPlane}}{\\bar v_{z_{fb}} W_{Sed}}}$$\n",
        "\n",
        "Now solve for $\\bar v_{Jet}$\n",
        "\n",
        "$$\\bar v_{Jet} = \\left(\\frac{\\tau_{max}}{\\rho}\\right)^\\frac{1}{2} \\left( \\frac{\\bar v_{z_{fb}} W_{Sed}}{\\nu \\Pi_{JetPlane}}\\right)^\\frac{1}{4}$$\n",
        "\n"
      ]
    },
    {
      "cell_type": "code",
      "metadata": {
        "id": "Fa2UOCYtERbF",
        "colab_type": "code",
        "colab": {
          "base_uri": "https://localhost:8080/",
          "height": 279
        },
        "outputId": "84b60da9-2459-4b72-b3f5-9cf7d4ec3505"
      },
      "source": [
        "v_z_fb = 1 *u.mm/u.s\n",
        "\n",
        "W_sed_range = np.linspace(0.2,1,50)*u.m\n",
        "def v_jet_max(v_z_fb, W_sed,tau_max,temp):\n",
        "  return (np.sqrt(tau_max / ac.density_water(temp)) * (v_z_fb * W_sed / ac.viscosity_kinematic_water(temp) / ac.con.JET_PLANE_RATIO)**(1/4)).to(u.mm/u.s)\n",
        "\n",
        "plt.plot(W_sed_range,v_jet_max(v_z_fb,W_sed_range,tau_max,30*u.degC));\n",
        "plt.plot(W_sed_range,v_jet_max(v_z_fb,W_sed_range,tau_max,20*u.degC));\n",
        "plt.plot(W_sed_range,v_jet_max(v_z_fb,W_sed_range,tau_max,10*u.degC));\n",
        "plt.plot(W_sed_range,v_jet_max(v_z_fb,W_sed_range,tau_max,0.1*u.degC));\n",
        "plt.xlabel('Sed valley width (m)');\n",
        "plt.ylabel(r'Maximum diffuser jet velocity $\\left(\\frac{mm}{s}\\right)$');\n",
        "plt.legend(['$30^\\circ C$','$20^\\circ C$','$10^\\circ C$','$0^\\circ C$']);"
      ],
      "execution_count": 56,
      "outputs": [
        {
          "output_type": "display_data",
          "data": {
            "image/png": "[encoded data removed]",
            "text/plain": [
              "<Figure size 432x288 with 1 Axes>"
            ]
          },
          "metadata": {
            "tags": [],
            "needs_background": "light"
          }
        }
      ]
    },
    {
      "cell_type": "markdown",
      "metadata": {
        "id": "rWI7tfIMl_Ho",
        "colab_type": "text"
      },
      "source": [
        "Now we can find the maximum manifold velocity\n",
        "$$\\frac{\\bar v_{P}}{\\bar v_{M_1}} = \\sqrt{\\frac{\\Pi_{Q}^2 + 1}{2(1 - \\Pi_{Q}^2)}}$$\n",
        "\n",
        "Given the velocity in the manifolds, could we minimize the plastic given a dimension for the sed tank? "
      ]
    },
    {
      "cell_type": "code",
      "metadata": {
        "id": "UwflrrPYj212",
        "colab_type": "code",
        "colab": {}
      },
      "source": [
        ""
      ],
      "execution_count": 0,
      "outputs": []
    }
  ]
}