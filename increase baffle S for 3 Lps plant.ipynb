{
  "nbformat": 4,
  "nbformat_minor": 0,
  "metadata": {
    "colab": {
      "name": "Untitled0.ipynb",
      "provenance": [],
      "authorship_tag": "ABX9TyOT6ayInVIf+EiVIQg5sBcV",
      "include_colab_link": true
    },
    "kernelspec": {
      "name": "python3",
      "display_name": "Python 3"
    }
  },
  "cells": [
    {
      "cell_type": "markdown",
      "metadata": {
        "id": "view-in-github",
        "colab_type": "text"
      },
      "source": [
        "<a href=\"https://colab.research.google.com/github/monroews/playing/blob/master/increase%20baffle%20S%20for%203%20Lps%20plant.ipynb\" target=\"_parent\"><img src=\"https://colab.research.google.com/assets/colab-badge.svg\" alt=\"Open In Colab\"/></a>"
      ]
    },
    {
      "cell_type": "code",
      "metadata": {
        "id": "1IVCY86DAmPd"
      },
      "source": [
        ""
      ],
      "execution_count": null,
      "outputs": []
    },
    {
      "cell_type": "markdown",
      "metadata": {
        "id": "VpnxHndMAmtv"
      },
      "source": [
        "$$h_{L_{e}} = N K \\frac{\\bar v^2}{2g}$$\r\n",
        "\r\n",
        "Donde $N$ es el numero de deflectores.\r\n",
        "Queremos usar un nuevo K que es mas alto para asegurar que no hay demasiado perdida de carga. Asi que tenemos diseño 0 y vamos a hacer diseño 1\r\n",
        "\r\n",
        "$$h_{L_{e_0}} = N_0 K_0 \\frac{\\bar v^2_0}{2g}$$\r\n",
        "\r\n",
        "$$h_{L_{e_1}} = N_1 K_1 \\frac{\\bar v^2_1}{2g}$$\r\n",
        "\r\n",
        "En ambos casos queriamos tener el mismo perdida de carga.\r\n",
        "\r\n",
        "$$h_{L_{e_0}} = h_{L_{e_1}}$$\r\n",
        "\r\n",
        "y por eso tenemos la siguente relacion\r\n",
        "\r\n",
        "$$ N_0 K_0 \\frac{\\bar v^2_0}{2g} = N_1 K_1 \\frac{\\bar v^2_1}{2g}$$\r\n",
        "\r\n",
        "$$ \\frac{N_0}{N_1}  \\left(\\frac{\\bar v_0}{\\bar v_1} \\right)^2=  \\frac{K_1}{K_0} $$\r\n",
        "\r\n",
        "Vamos a cambiar el espacio entre deflectores y mantener el espacio entre canales. Eso da la relacion entre velocidad y el espacio entre deflectores\r\n",
        "\r\n",
        "$$ v_0 S_0 = v_1 S_1 $$\r\n",
        "\r\n",
        "$$ \\frac{v_0}{v_1}  =  \\frac{S_1}{S_0} $$\r\n",
        "\r\n",
        "El numero de deflectores va a reducir porque cada deflector require mas espacio. Vamos a conservar la altura de los canales.\r\n",
        "\r\n",
        "$$ N_0 S_0 = N_1 S_1$$\r\n",
        "\r\n",
        "$$ \\frac{N_0}{N_1}  =  \\frac{S_1}{S_0}$$\r\n",
        "\r\n",
        "Substituir en la relacion de mantener la perdida de carga\r\n",
        "\r\n",
        "$$\\left(\\frac{S_1}{S_0} \\right)^3=  \\frac{K_1}{K_0} $$\r\n",
        "\r\n",
        "$$\\frac{S_1}{S_0} =  \\left(\\frac{K_1}{K_0}\\right) ^\\frac{1}{3}$$\r\n",
        "\r\n",
        "Este diseño empezo con un valor de K de 2.3. \r\n",
        "Un valor mas conservadora seria 4.\r\n",
        "$$ \\left(\\frac{4}{2.3}\\right)^\\frac{1}{3} = 1.2.\r\n",
        "\r\n"
      ]
    }
  ]
}