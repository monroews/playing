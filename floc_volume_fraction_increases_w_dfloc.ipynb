{
  "nbformat": 4,
  "nbformat_minor": 0,
  "metadata": {
    "colab": {
      "name": "floc_volume_fraction_increases_w_dfloc.ipynb",
      "provenance": [],
      "collapsed_sections": []
    },
    "kernelspec": {
      "name": "python3",
      "display_name": "Python 3"
    }
  },
  "cells": [
    {
      "cell_type": "code",
      "metadata": {
        "id": "PVAw33a8_D2p",
        "colab_type": "code",
        "outputId": "2d7b1169-933b-45d7-fc51-89e77fe7bf9d",
        "colab": {
          "base_uri": "https://localhost:8080/",
          "height": 476
        }
      },
      "source": [
        "!pip install aguaclara\n",
        "from aguaclara.core.units import unit_registry as u\n",
        "import aguaclara as ac\n",
        "import numpy as np\n",
        "import matplotlib.pyplot as plt"
      ],
      "execution_count": 1,
      "outputs": [
        {
          "output_type": "stream",
          "text": [
            "Collecting aguaclara\n",
            "\u001b[?25l  Downloading https://files.pythonhosted.org/packages/6d/b5/24c20d548db5d6dbbce2899e0c9e24eab6c5f593a2898b353f356bb9cd3b/aguaclara-0.2.1.tar.gz (87kB)\n",
            "\u001b[K     |████████████████████████████████| 92kB 2.2MB/s \n",
            "\u001b[?25hRequirement already satisfied: matplotlib in /usr/local/lib/python3.6/dist-packages (from aguaclara) (3.2.1)\n",
            "Requirement already satisfied: urllib3 in /usr/local/lib/python3.6/dist-packages (from aguaclara) (1.24.3)\n",
            "Collecting pint==0.8.1\n",
            "\u001b[?25l  Downloading https://files.pythonhosted.org/packages/1e/40/6938f7d544eef208a8183c2c80624289e8a4f4e0aea43f4658b9527077de/Pint-0.8.1.tar.gz (162kB)\n",
            "\u001b[K     |████████████████████████████████| 163kB 7.9MB/s \n",
            "\u001b[?25hRequirement already satisfied: pandas in /usr/local/lib/python3.6/dist-packages (from aguaclara) (1.0.3)\n",
            "Requirement already satisfied: scipy in /usr/local/lib/python3.6/dist-packages (from aguaclara) (1.4.1)\n",
            "Requirement already satisfied: numpy>=1.11 in /usr/local/lib/python3.6/dist-packages (from matplotlib->aguaclara) (1.18.4)\n",
            "Requirement already satisfied: kiwisolver>=1.0.1 in /usr/local/lib/python3.6/dist-packages (from matplotlib->aguaclara) (1.2.0)\n",
            "Requirement already satisfied: python-dateutil>=2.1 in /usr/local/lib/python3.6/dist-packages (from matplotlib->aguaclara) (2.8.1)\n",
            "Requirement already satisfied: pyparsing!=2.0.4,!=2.1.2,!=2.1.6,>=2.0.1 in /usr/local/lib/python3.6/dist-packages (from matplotlib->aguaclara) (2.4.7)\n",
            "Requirement already satisfied: cycler>=0.10 in /usr/local/lib/python3.6/dist-packages (from matplotlib->aguaclara) (0.10.0)\n",
            "Requirement already satisfied: pytz>=2017.2 in /usr/local/lib/python3.6/dist-packages (from pandas->aguaclara) (2018.9)\n",
            "Requirement already satisfied: six>=1.5 in /usr/local/lib/python3.6/dist-packages (from python-dateutil>=2.1->matplotlib->aguaclara) (1.12.0)\n",
            "Building wheels for collected packages: aguaclara, pint\n",
            "  Building wheel for aguaclara (setup.py) ... \u001b[?25l\u001b[?25hdone\n",
            "  Created wheel for aguaclara: filename=aguaclara-0.2.1-cp36-none-any.whl size=99466 sha256=1c3ffdd3c4e3f7a2df5e483390c8c738e89ab7f0aba017531092db0569ec0b93\n",
            "  Stored in directory: /root/.cache/pip/wheels/7f/ff/4f/10d76e6a261d392aefbdf6ce8d3d5519e924dc334b102ca49b\n",
            "  Building wheel for pint (setup.py) ... \u001b[?25l\u001b[?25hdone\n",
            "  Created wheel for pint: filename=Pint-0.8.1-py2.py3-none-any.whl size=134156 sha256=27665fa715a96280aa495d73c32af2cefd3d637ba3c1843b6466dbf1ba2a6fbf\n",
            "  Stored in directory: /root/.cache/pip/wheels/b4/56/36/7c4d6a4e3660e233b95e3b0482551915cb184abca0f93ee1dd\n",
            "Successfully built aguaclara pint\n",
            "Installing collected packages: pint, aguaclara\n",
            "Successfully installed aguaclara-0.2.1 pint-0.8.1\n"
          ],
          "name": "stdout"
        }
      ]
    },
    {
      "cell_type": "markdown",
      "metadata": {
        "id": "dtJEODWN_V8i",
        "colab_type": "text"
      },
      "source": [
        "# Volume per clay particle in flocs\n",
        "\n",
        "What is the volume per clay particle normalized by the clay particle volume as a function of floc diameter.\n",
        "\n",
        "$$d = d_0 i^\\frac{1}{D_{Fractal}}$$\n",
        "\n",
        "The volume of a floc containing i primary particles is\n",
        "\n",
        "$$\\rlap{-}V = \\rlap{-}V_0 i^\\frac{3}{D_{Fractal}}$$\n",
        "\n",
        "Normalize by the volume of i primary particles\n",
        "\n",
        "$$\\frac{\\rlap{-}V}{i \\rlap{-}V_0} = \\frac{\\rlap{-}V_0}{i \\rlap{-}V_0} i^\\frac{3}{D_{Fractal}}$$\n",
        "\n",
        "Simplify\n",
        "\n",
        "$$\\frac{\\rlap{-}V}{i \\rlap{-}V_0} =  i^{\\left( \\frac{3-D_{Fractal}}{D_{Fractal}} \\right)} $$\n",
        "\n"
      ]
    },
    {
      "cell_type": "markdown",
      "metadata": {
        "id": "8jNlf1xkfLy6",
        "colab_type": "text"
      },
      "source": [
        "![image.png](data:image/png;base64,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)"
      ]
    },
    {
      "cell_type": "code",
      "metadata": {
        "id": "fRx08BSh_JL8",
        "colab_type": "code",
        "outputId": "597c58ec-da82-4a92-f9a6-83845be24eac",
        "colab": {
          "base_uri": "https://localhost:8080/",
          "height": 300
        }
      },
      "source": [
        "max_collisions = 10\n",
        "i_collisions = np.linspace(0,max_collisions,max_collisions+1)\n",
        "i_particles = 2**i_collisions\n",
        "d_clay = 5 * u.um\n",
        "D_fractal = 1.8\n",
        "d_floc = d_clay * i_particles**(1/D_fractal)\n",
        "volume = i_particles**((3-D_fractal)/D_fractal)\n",
        "plt.plot(d_floc,volume,'o')\n",
        "plt.xlabel(r'Floc diameter ($\\mu m$)')\n",
        "plt.ylabel('Volume multiple')"
      ],
      "execution_count": 10,
      "outputs": [
        {
          "output_type": "execute_result",
          "data": {
            "text/plain": [
              "Text(0, 0.5, 'Volume multiple')"
            ]
          },
          "metadata": {
            "tags": []
          },
          "execution_count": 10
        },
        {
          "output_type": "display_data",
          "data": {
            "image/png": "[encoded data removed]",
            "text/plain": [
              "<Figure size 432x288 with 1 Axes>"
            ]
          },
          "metadata": {
            "tags": [],
            "needs_background": "light"
          }
        }
      ]
    },
    {
      "cell_type": "markdown",
      "metadata": {
        "id": "FhcYTEfTTSHe",
        "colab_type": "text"
      },
      "source": [
        "If we assume that filter constrictions have a depth equal to the diameter of the floc being captured then will higher \n",
        "\n",
        "# Projected area per clay particle in flocs\n",
        "\n",
        "What is the projected area per clay particle normalized by the clay particle projected area as a function of floc diameter.\n",
        "\n",
        "$d = d_0 i^\\frac{1}{D_{Fractal}}$$\n",
        "\n",
        "The projected area of a floc containing i primary particles is\n",
        "\n",
        "$$A_{projected} = A_{projected_0} i^\\frac{2}{D_{Fractal}}$$\n",
        "\n",
        "Normalize by the projected area of i primary particles\n",
        "\n",
        "$$\\frac{A_{projected}}{i A_{projected_0}} = \\frac{A_{projected_0}}{i A_{projected_0}} i^\\frac{2}{D_{Fractal}}$$\n",
        "\n",
        "Simplify\n",
        "\n",
        "$$\\frac{A_{projected}}{i A_{projected_0}}  =  i^{\\left( \\frac{2-D_{Fractal}}{D_{Fractal}} \\right)} $$\n"
      ]
    },
    {
      "cell_type": "code",
      "metadata": {
        "id": "b-CARv6qbFLi",
        "colab_type": "code",
        "colab": {
          "base_uri": "https://localhost:8080/",
          "height": 301
        },
        "outputId": "bba3ee83-de46-433c-f815-424b77308a76"
      },
      "source": [
        "area = i_particles**((2-D_fractal)/D_fractal)\n",
        "plt.plot(d_floc,area,'o')\n",
        "plt.xlabel(r'Floc diameter ($\\mu m$)')\n",
        "plt.ylabel('projected area multiple')"
      ],
      "execution_count": 11,
      "outputs": [
        {
          "output_type": "execute_result",
          "data": {
            "text/plain": [
              "Text(0, 0.5, 'projected area multiple')"
            ]
          },
          "metadata": {
            "tags": []
          },
          "execution_count": 11
        },
        {
          "output_type": "display_data",
          "data": {
            "image/png": "[encoded data removed]",
            "text/plain": [
              "<Figure size 432x288 with 1 Axes>"
            ]
          },
          "metadata": {
            "tags": [],
            "needs_background": "light"
          }
        }
      ]
    },
    {
      "cell_type": "code",
      "metadata": {
        "id": "rfM4uQURbemT",
        "colab_type": "code",
        "colab": {}
      },
      "source": [
        ""
      ],
      "execution_count": 0,
      "outputs": []
    }
  ]
}